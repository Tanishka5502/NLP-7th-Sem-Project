{
  "nbformat": 4,
  "nbformat_minor": 0,
  "metadata": {
    "colab": {
      "provenance": []
    },
    "kernelspec": {
      "name": "python3",
      "display_name": "Python 3"
    },
    "language_info": {
      "name": "python"
    }
  },
  "cells": [
    {
      "cell_type": "markdown",
      "source": [
        "###Build a Job Description and Resume Matching System"
      ],
      "metadata": {
        "id": "0ZYhlIiWN0fh"
      }
    },
    {
      "cell_type": "code",
      "source": [
        "!pip install docx2txt\n",
        "!pip install PyPDF2\n",
        "import os\n",
        "import docx2txt\n",
        "import PyPDF2\n",
        "from sklearn.feature_extraction.text import TfidfVectorizer\n",
        "from sklearn.metrics.pairwise import cosine_similarity"
      ],
      "metadata": {
        "colab": {
          "base_uri": "https://localhost:8080/"
        },
        "id": "YL3slpqR_6xm",
        "outputId": "a1dce19a-6065-464a-ac13-bd1b6b609620"
      },
      "execution_count": null,
      "outputs": [
        {
          "output_type": "stream",
          "name": "stdout",
          "text": [
            "Requirement already satisfied: docx2txt in /usr/local/lib/python3.10/dist-packages (0.8)\n",
            "Requirement already satisfied: PyPDF2 in /usr/local/lib/python3.10/dist-packages (3.0.1)\n"
          ]
        }
      ]
    },
    {
      "cell_type": "code",
      "source": [
        "def extract_text_from_pdf(file_path):\n",
        "    \"\"\"Extract text from a PDF file.\"\"\"\n",
        "    text = \"\"\n",
        "    with open(file_path, 'rb') as file:\n",
        "        reader = PyPDF2.PdfReader(file)\n",
        "        for page in reader.pages:\n",
        "            text += page.extract_text()\n",
        "    return text"
      ],
      "metadata": {
        "id": "64sRqGPX_8jZ"
      },
      "execution_count": null,
      "outputs": []
    },
    {
      "cell_type": "code",
      "source": [
        "def extract_text_from_docx(file_path):\n",
        "    \"\"\"Extract text from a DOCX file.\"\"\"\n",
        "    return docx2txt.process(file_path)"
      ],
      "metadata": {
        "id": "1T5nAdkM_8mW"
      },
      "execution_count": null,
      "outputs": []
    },
    {
      "cell_type": "code",
      "source": [
        "def extract_text_from_txt(file_path):\n",
        "    \"\"\"Extract text from a TXT file.\"\"\"\n",
        "    with open(file_path, 'r', encoding='utf-8') as file:\n",
        "        return file.read()"
      ],
      "metadata": {
        "id": "1yY7rFxG_8pZ"
      },
      "execution_count": null,
      "outputs": []
    },
    {
      "cell_type": "code",
      "source": [
        "def extract_text(file_path):\n",
        "    \"\"\"Determine the file type and extract text accordingly.\"\"\"\n",
        "    if file_path.endswith('.pdf'):\n",
        "        return extract_text_from_pdf(file_path)\n",
        "    elif file_path.endswith('.docx'):\n",
        "        return extract_text_from_docx(file_path)\n",
        "    elif file_path.endswith('.txt'):\n",
        "        return extract_text_from_txt(file_path)\n",
        "    else:\n",
        "        print(f\"Unsupported file type for {file_path}. Skipping.\")\n",
        "        return \"\""
      ],
      "metadata": {
        "id": "V8ahYo9x_8s-"
      },
      "execution_count": null,
      "outputs": []
    },
    {
      "cell_type": "code",
      "source": [
        "def match_resumes(job_description, resume_files):\n",
        "    \"\"\"Match resumes against a job description and return ranked results.\"\"\"\n",
        "    resumes = [extract_text(resume) for resume in resume_files]\n",
        "\n",
        "    if not resumes:\n",
        "        print(\"No valid resumes were processed.\")\n",
        "        return []\n",
        "\n",
        "    # Vectorize the job description and resumes\n",
        "    vectorizer = TfidfVectorizer().fit_transform([job_description] + resumes)\n",
        "    vectors = vectorizer.toarray()\n",
        "\n",
        "    # Calculate cosine similarities\n",
        "    job_vector = vectors[0]\n",
        "    resume_vectors = vectors[1:]\n",
        "    similarities = cosine_similarity([job_vector], resume_vectors)[0]\n",
        "\n",
        "    # Rank resumes by similarity\n",
        "    ranked_indices = similarities.argsort()[::-1][:5]  # Top 5 matches\n",
        "    ranked_resumes = [(resume_files[i], round(similarities[i], 2)) for i in ranked_indices]\n",
        "    return ranked_resumes"
      ],
      "metadata": {
        "id": "k3QSmSJH_8wR"
      },
      "execution_count": null,
      "outputs": []
    },
    {
      "cell_type": "code",
      "source": [
        "def main():\n",
        "    # Hardcoded paths to resume files\n",
        "    resume_files = [\n",
        "        \"/content/Data Scientist.pdf\",\n",
        "        \"/content/Finantial Analist.pdf\",\n",
        "        \"/content/Healthcare.txt\",\n",
        "        \"/content/Software engineer.pdf\",\n",
        "        \"/content/Teacher.pdf\",\n",
        "        \"/content/advocate.txt\",\n",
        "        \"/content/backend developer.pdf\",\n",
        "        \"/content/banking.txt\",\n",
        "        \"/content/data engineer.pdf\",\n",
        "        \"/content/designer.pdf\",\n",
        "        \"/content/dev oops engineer.pdf\",\n",
        "        \"/content/Engineer.pdf\",\n",
        "        \"/content/marketing specialist.pdf\",\n",
        "        \"/content/project manager.pdf\",\n",
        "        \"/content/software developer.pdf\"\n",
        "    ]\n",
        "\n",
        "    # Check if all files exist\n",
        "    valid_files = [file for file in resume_files if os.path.exists(file)]\n",
        "    if len(valid_files) != len(resume_files):\n",
        "        print(\"Some files were not found and will be skipped.\")\n",
        "\n",
        "    # Input job description\n",
        "    job_description = input(\"Enter the job description: \")\n",
        "\n",
        "    # Match resumes\n",
        "    ranked_resumes = match_resumes(job_description, valid_files)\n",
        "\n",
        "    # Display results\n",
        "    print(\"\\nTop 5 Matching Resumes:\")\n",
        "    for rank, (filename, score) in enumerate(ranked_resumes, start=1):\n",
        "        print(f\"{rank}. {filename} - Similarity Score: {score}\")"
      ],
      "metadata": {
        "id": "t9tiAg-o_8zt"
      },
      "execution_count": null,
      "outputs": []
    },
    {
      "cell_type": "code",
      "source": [
        "if __name__ == \"__main__\":\n",
        "    main()"
      ],
      "metadata": {
        "colab": {
          "base_uri": "https://localhost:8080/"
        },
        "id": "wjCKsgcg_83T",
        "outputId": "cf418434-0b5c-47cb-c3e9-f12ca8460d21"
      },
      "execution_count": null,
      "outputs": [
        {
          "output_type": "stream",
          "name": "stdout",
          "text": [
            "Enter the job description: Job Description: We are looking for a highly skilled Software Engineer to join our development team. The ideal candidate will have experience in Python, Java, or C++, along with a strong understanding of software development life cycles. You will collaborate with cross-functional teams to design, develop, and maintain scalable software solutions.  Key Responsibilities:  Develop high-quality software that meets technical and functional requirements. Write clean, maintainable, and efficient code. Troubleshoot, debug, and resolve software issues. Collaborate with team members on architectural designs and technical decisions. Skills Required:  Proficiency in programming languages such as Python, Java, or C++. Experience with frameworks like Django, React, or Spring Boot. Knowledge of databases (SQL, NoSQL). Familiarity with cloud platforms like AWS or Azure.\n",
            "\n",
            "Top 5 Matching Resumes:\n",
            "1. /content/Software engineer.pdf - Similarity Score: 0.29\n",
            "2. /content/Engineer.pdf - Similarity Score: 0.22\n",
            "3. /content/designer.pdf - Similarity Score: 0.17\n",
            "4. /content/Teacher.pdf - Similarity Score: 0.15\n",
            "5. /content/banking.txt - Similarity Score: 0.15\n"
          ]
        }
      ]
    }
  ]
}